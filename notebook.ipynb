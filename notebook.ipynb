{
  "cells": [
    {
      "attachments": {},
      "cell_type": "markdown",
      "metadata": {
        "id": "H9wADwK78DCz"
      },
      "source": [
        "# Proyek Analisis Data: [Bike Sharing Dataset]\n",
        "- **Nama:** Theodorus Limbong\n",
        "- **Email:** theodoruslimbong@gmail.com\n",
        "- **ID Dicoding:** theodorus_limbong"
      ]
    },
    {
      "cell_type": "markdown",
      "metadata": {
        "id": "eE0raob58DC0"
      },
      "source": [
        "## Menentukan Pertanyaan Bisnis"
      ]
    },
    {
      "attachments": {},
      "cell_type": "markdown",
      "metadata": {
        "id": "GmQeQ5YF8DC0"
      },
      "source": [
        "- When is the peak time for bike rentals in a day?\n",
        "- How many bike rentals on average are made by casual and registered users each month?"
      ]
    },
    {
      "cell_type": "markdown",
      "metadata": {
        "id": "H-z4QGlO8DC1"
      },
      "source": [
        "## Import Semua Packages/Library yang Digunakan"
      ]
    },
    {
      "cell_type": "code",
      "execution_count": 178,
      "metadata": {
        "id": "FVYwaObI8DC1"
      },
      "outputs": [],
      "source": [
        "import pandas as pd\n",
        "import numpy as np\n",
        "import matplotlib.pyplot as plt\n",
        "import seaborn as sns\n",
        "import plotly.express as px\n",
        "from sklearn.cluster import KMeans\n",
        "import geopandas as gpd\n",
        "import folium\n",
        "import streamlit as st\n",
        "from datetime import datetime\n",
        "import os"
      ]
    },
    {
      "cell_type": "markdown",
      "metadata": {
        "id": "h_Sh51Xy8DC1"
      },
      "source": [
        "## Data Wrangling"
      ]
    },
    {
      "attachments": {},
      "cell_type": "markdown",
      "metadata": {
        "id": "sXU2GBYu8DC1"
      },
      "source": [
        "### Gathering Data\n",
        "\n",
        "Process of collecting and measuring information on targeted variables in a system. This information is then used to answer questions, evaluate outcomes, and forecast trends. It's a crucial step in various fields, including research, business, and analytics."
      ]
    },
    {
      "cell_type": "code",
      "execution_count": 179,
      "metadata": {
        "id": "zjCBk1BI8DC1"
      },
      "outputs": [
        {
          "name": "stdout",
          "output_type": "stream",
          "text": [
            "Information about Day Dataset:\n",
            "<class 'pandas.core.frame.DataFrame'>\n",
            "RangeIndex: 731 entries, 0 to 730\n",
            "Data columns (total 16 columns):\n",
            " #   Column      Non-Null Count  Dtype  \n",
            "---  ------      --------------  -----  \n",
            " 0   instant     731 non-null    int64  \n",
            " 1   dteday      731 non-null    object \n",
            " 2   season      731 non-null    int64  \n",
            " 3   yr          731 non-null    int64  \n",
            " 4   mnth        731 non-null    int64  \n",
            " 5   holiday     731 non-null    int64  \n",
            " 6   weekday     731 non-null    int64  \n",
            " 7   workingday  731 non-null    int64  \n",
            " 8   weathersit  731 non-null    int64  \n",
            " 9   temp        731 non-null    float64\n",
            " 10  atemp       731 non-null    float64\n",
            " 11  hum         731 non-null    float64\n",
            " 12  windspeed   731 non-null    float64\n",
            " 13  casual      731 non-null    int64  \n",
            " 14  registered  731 non-null    int64  \n",
            " 15  cnt         731 non-null    int64  \n",
            "dtypes: float64(4), int64(11), object(1)\n",
            "memory usage: 91.5+ KB\n",
            "None\n",
            "\n",
            "Descriptive Statistics of Day Dataset:\n",
            "       instant  season     yr   mnth  holiday  weekday  workingday  \\\n",
            "count   731.00  731.00 731.00 731.00   731.00   731.00      731.00   \n",
            "mean    366.00    2.50   0.50   6.52     0.03     3.00        0.68   \n",
            "std     211.17    1.11   0.50   3.45     0.17     2.00        0.47   \n",
            "min       1.00    1.00   0.00   1.00     0.00     0.00        0.00   \n",
            "25%     183.50    2.00   0.00   4.00     0.00     1.00        0.00   \n",
            "50%     366.00    3.00   1.00   7.00     0.00     3.00        1.00   \n",
            "75%     548.50    3.00   1.00  10.00     0.00     5.00        1.00   \n",
            "max     731.00    4.00   1.00  12.00     1.00     6.00        1.00   \n",
            "\n",
            "       weathersit   temp  atemp    hum  windspeed   casual  registered  \\\n",
            "count      731.00 731.00 731.00 731.00     731.00   731.00      731.00   \n",
            "mean         1.40   0.50   0.47   0.63       0.19   848.18    3,656.17   \n",
            "std          0.54   0.18   0.16   0.14       0.08   686.62    1,560.26   \n",
            "min          1.00   0.06   0.08   0.00       0.02     2.00       20.00   \n",
            "25%          1.00   0.34   0.34   0.52       0.13   315.50    2,497.00   \n",
            "50%          1.00   0.50   0.49   0.63       0.18   713.00    3,662.00   \n",
            "75%          2.00   0.66   0.61   0.73       0.23 1,096.00    4,776.50   \n",
            "max          3.00   0.86   0.84   0.97       0.51 3,410.00    6,946.00   \n",
            "\n",
            "           cnt  \n",
            "count   731.00  \n",
            "mean  4,504.35  \n",
            "std   1,937.21  \n",
            "min      22.00  \n",
            "25%   3,152.00  \n",
            "50%   4,548.00  \n",
            "75%   5,956.00  \n",
            "max   8,714.00  \n",
            "\n",
            "First Few Rows of Day Dataset:\n",
            "   instant      dteday  season  yr  mnth  holiday  weekday  workingday  \\\n",
            "0        1  2011-01-01       1   0     1        0        6           0   \n",
            "1        2  2011-01-02       1   0     1        0        0           0   \n",
            "2        3  2011-01-03       1   0     1        0        1           1   \n",
            "3        4  2011-01-04       1   0     1        0        2           1   \n",
            "4        5  2011-01-05       1   0     1        0        3           1   \n",
            "\n",
            "   weathersit  temp  atemp  hum  windspeed  casual  registered   cnt  \n",
            "0           2  0.34   0.36 0.81       0.16     331         654   985  \n",
            "1           2  0.36   0.35 0.70       0.25     131         670   801  \n",
            "2           1  0.20   0.19 0.44       0.25     120        1229  1349  \n",
            "3           1  0.20   0.21 0.59       0.16     108        1454  1562  \n",
            "4           1  0.23   0.23 0.44       0.19      82        1518  1600  \n",
            "\n",
            "Information about Hour Dataset:\n",
            "<class 'pandas.core.frame.DataFrame'>\n",
            "RangeIndex: 17379 entries, 0 to 17378\n",
            "Data columns (total 17 columns):\n",
            " #   Column      Non-Null Count  Dtype  \n",
            "---  ------      --------------  -----  \n",
            " 0   instant     17379 non-null  int64  \n",
            " 1   dteday      17379 non-null  object \n",
            " 2   season      17379 non-null  int64  \n",
            " 3   yr          17379 non-null  int64  \n",
            " 4   mnth        17379 non-null  int64  \n",
            " 5   hr          17379 non-null  int64  \n",
            " 6   holiday     17379 non-null  int64  \n",
            " 7   weekday     17379 non-null  int64  \n",
            " 8   workingday  17379 non-null  int64  \n",
            " 9   weathersit  17379 non-null  int64  \n",
            " 10  temp        17379 non-null  float64\n",
            " 11  atemp       17379 non-null  float64\n",
            " 12  hum         17379 non-null  float64\n",
            " 13  windspeed   17379 non-null  float64\n",
            " 14  casual      17379 non-null  int64  \n",
            " 15  registered  17379 non-null  int64  \n",
            " 16  cnt         17379 non-null  int64  \n",
            "dtypes: float64(4), int64(12), object(1)\n",
            "memory usage: 2.3+ MB\n",
            "None\n",
            "\n",
            "Descriptive Statistics of Hour Dataset:\n",
            "        instant    season        yr      mnth        hr   holiday   weekday  \\\n",
            "count 17,379.00 17,379.00 17,379.00 17,379.00 17,379.00 17,379.00 17,379.00   \n",
            "mean   8,690.00      2.50      0.50      6.54     11.55      0.03      3.00   \n",
            "std    5,017.03      1.11      0.50      3.44      6.91      0.17      2.01   \n",
            "min        1.00      1.00      0.00      1.00      0.00      0.00      0.00   \n",
            "25%    4,345.50      2.00      0.00      4.00      6.00      0.00      1.00   \n",
            "50%    8,690.00      3.00      1.00      7.00     12.00      0.00      3.00   \n",
            "75%   13,034.50      3.00      1.00     10.00     18.00      0.00      5.00   \n",
            "max   17,379.00      4.00      1.00     12.00     23.00      1.00      6.00   \n",
            "\n",
            "       workingday  weathersit      temp     atemp       hum  windspeed  \\\n",
            "count   17,379.00   17,379.00 17,379.00 17,379.00 17,379.00  17,379.00   \n",
            "mean         0.68        1.43      0.50      0.48      0.63       0.19   \n",
            "std          0.47        0.64      0.19      0.17      0.19       0.12   \n",
            "min          0.00        1.00      0.02      0.00      0.00       0.00   \n",
            "25%          0.00        1.00      0.34      0.33      0.48       0.10   \n",
            "50%          1.00        1.00      0.50      0.48      0.63       0.19   \n",
            "75%          1.00        2.00      0.66      0.62      0.78       0.25   \n",
            "max          1.00        4.00      1.00      1.00      1.00       0.85   \n",
            "\n",
            "         casual  registered       cnt  \n",
            "count 17,379.00   17,379.00 17,379.00  \n",
            "mean      35.68      153.79    189.46  \n",
            "std       49.31      151.36    181.39  \n",
            "min        0.00        0.00      1.00  \n",
            "25%        4.00       34.00     40.00  \n",
            "50%       17.00      115.00    142.00  \n",
            "75%       48.00      220.00    281.00  \n",
            "max      367.00      886.00    977.00  \n",
            "\n",
            "First Few Rows of Hour Dataset:\n",
            "   instant      dteday  season  yr  mnth  hr  holiday  weekday  workingday  \\\n",
            "0        1  2011-01-01       1   0     1   0        0        6           0   \n",
            "1        2  2011-01-01       1   0     1   1        0        6           0   \n",
            "2        3  2011-01-01       1   0     1   2        0        6           0   \n",
            "3        4  2011-01-01       1   0     1   3        0        6           0   \n",
            "4        5  2011-01-01       1   0     1   4        0        6           0   \n",
            "\n",
            "   weathersit  temp  atemp  hum  windspeed  casual  registered  cnt  \n",
            "0           1  0.24   0.29 0.81       0.00       3          13   16  \n",
            "1           1  0.22   0.27 0.80       0.00       8          32   40  \n",
            "2           1  0.22   0.27 0.80       0.00       5          27   32  \n",
            "3           1  0.24   0.29 0.75       0.00       3          10   13  \n",
            "4           1  0.24   0.29 0.75       0.00       0           1    1  \n"
          ]
        }
      ],
      "source": [
        "# Reading the dataset from CSV files\n",
        "df_day = pd.read_csv(\"data/day.csv\")\n",
        "df_hour = pd.read_csv(\"data/hour.csv\")\n",
        "\n",
        "# Displaying basic information about the 'day' dataset\n",
        "print(\"Information about Day Dataset:\")\n",
        "print(df_day.info())\n",
        "print(\"\\nDescriptive Statistics of Day Dataset:\")\n",
        "print(df_day.describe())\n",
        "\n",
        "# Displaying the first few rows of the 'day' dataset\n",
        "print(\"\\nFirst Few Rows of Day Dataset:\")\n",
        "print(df_day.head())\n",
        "\n",
        "# Displaying basic information about the 'hour' dataset\n",
        "print(\"\\nInformation about Hour Dataset:\")\n",
        "print(df_hour.info())\n",
        "print(\"\\nDescriptive Statistics of Hour Dataset:\")\n",
        "print(df_hour.describe())\n",
        "\n",
        "# Displaying the first few rows of the 'hour' dataset\n",
        "print(\"\\nFirst Few Rows of Hour Dataset:\")\n",
        "print(df_hour.head())"
      ]
    },
    {
      "attachments": {},
      "cell_type": "markdown",
      "metadata": {
        "id": "MMi6xGaDkbCi"
      },
      "source": [
        "**Insight:**\n",
        "-  Both datasets are well-structured, with no missing values in any columns, ensuring reliable analysis of bike rental patterns across different time frames (daily and hourly).\n",
        "- The Day dataset indicates a significant variation in bike rentals influenced by factors such as seasonality and weather conditions, while the Hour dataset provides detailed hourly trends, suggesting peak rental times that can inform operational decisions."
      ]
    },
    {
      "attachments": {},
      "cell_type": "markdown",
      "metadata": {
        "id": "FHSiqaZp8DC1"
      },
      "source": [
        "### Assessing Data\n",
        "\n",
        " Process of evaluating the quality, reliability, and relevance of data for a specific purpose. It's a critical step in any data-driven project, ensuring that the information used is accurate, consistent, and suitable for the intended analysis."
      ]
    },
    {
      "cell_type": "code",
      "execution_count": 180,
      "metadata": {
        "id": "ax-3tEjc9Cj1"
      },
      "outputs": [
        {
          "name": "stdout",
          "output_type": "stream",
          "text": [
            "Dataset Day Information:\n",
            "<class 'pandas.core.frame.DataFrame'>\n",
            "RangeIndex: 731 entries, 0 to 730\n",
            "Data columns (total 16 columns):\n",
            " #   Column      Non-Null Count  Dtype  \n",
            "---  ------      --------------  -----  \n",
            " 0   instant     731 non-null    int64  \n",
            " 1   dteday      731 non-null    object \n",
            " 2   season      731 non-null    int64  \n",
            " 3   yr          731 non-null    int64  \n",
            " 4   mnth        731 non-null    int64  \n",
            " 5   holiday     731 non-null    int64  \n",
            " 6   weekday     731 non-null    int64  \n",
            " 7   workingday  731 non-null    int64  \n",
            " 8   weathersit  731 non-null    int64  \n",
            " 9   temp        731 non-null    float64\n",
            " 10  atemp       731 non-null    float64\n",
            " 11  hum         731 non-null    float64\n",
            " 12  windspeed   731 non-null    float64\n",
            " 13  casual      731 non-null    int64  \n",
            " 14  registered  731 non-null    int64  \n",
            " 15  cnt         731 non-null    int64  \n",
            "dtypes: float64(4), int64(11), object(1)\n",
            "memory usage: 91.5+ KB\n",
            "None\n",
            "\n",
            "Missing Values in Dataset Day:\n",
            "instant       0\n",
            "dteday        0\n",
            "season        0\n",
            "yr            0\n",
            "mnth          0\n",
            "holiday       0\n",
            "weekday       0\n",
            "workingday    0\n",
            "weathersit    0\n",
            "temp          0\n",
            "atemp         0\n",
            "hum           0\n",
            "windspeed     0\n",
            "casual        0\n",
            "registered    0\n",
            "cnt           0\n",
            "dtype: int64\n",
            "\n",
            "Summary Statistics of Dataset Day:\n",
            "       instant  season     yr   mnth  holiday  weekday  workingday  \\\n",
            "count   731.00  731.00 731.00 731.00   731.00   731.00      731.00   \n",
            "mean    366.00    2.50   0.50   6.52     0.03     3.00        0.68   \n",
            "std     211.17    1.11   0.50   3.45     0.17     2.00        0.47   \n",
            "min       1.00    1.00   0.00   1.00     0.00     0.00        0.00   \n",
            "25%     183.50    2.00   0.00   4.00     0.00     1.00        0.00   \n",
            "50%     366.00    3.00   1.00   7.00     0.00     3.00        1.00   \n",
            "75%     548.50    3.00   1.00  10.00     0.00     5.00        1.00   \n",
            "max     731.00    4.00   1.00  12.00     1.00     6.00        1.00   \n",
            "\n",
            "       weathersit   temp  atemp    hum  windspeed   casual  registered  \\\n",
            "count      731.00 731.00 731.00 731.00     731.00   731.00      731.00   \n",
            "mean         1.40   0.50   0.47   0.63       0.19   848.18    3,656.17   \n",
            "std          0.54   0.18   0.16   0.14       0.08   686.62    1,560.26   \n",
            "min          1.00   0.06   0.08   0.00       0.02     2.00       20.00   \n",
            "25%          1.00   0.34   0.34   0.52       0.13   315.50    2,497.00   \n",
            "50%          1.00   0.50   0.49   0.63       0.18   713.00    3,662.00   \n",
            "75%          2.00   0.66   0.61   0.73       0.23 1,096.00    4,776.50   \n",
            "max          3.00   0.86   0.84   0.97       0.51 3,410.00    6,946.00   \n",
            "\n",
            "           cnt  \n",
            "count   731.00  \n",
            "mean  4,504.35  \n",
            "std   1,937.21  \n",
            "min      22.00  \n",
            "25%   3,152.00  \n",
            "50%   4,548.00  \n",
            "75%   5,956.00  \n",
            "max   8,714.00  \n",
            "\n",
            "Season Frequency:\n",
            "season\n",
            "3    188\n",
            "2    184\n",
            "1    181\n",
            "4    178\n",
            "Name: count, dtype: int64\n",
            "\n",
            "Weather Situation Frequency:\n",
            "weathersit\n",
            "1    463\n",
            "2    247\n",
            "3     21\n",
            "Name: count, dtype: int64\n",
            "\n",
            "Weekday Frequency:\n",
            "weekday\n",
            "6    105\n",
            "0    105\n",
            "1    105\n",
            "2    104\n",
            "3    104\n",
            "4    104\n",
            "5    104\n",
            "Name: count, dtype: int64\n",
            "\n",
            "Dataset Hour Information:\n",
            "<class 'pandas.core.frame.DataFrame'>\n",
            "RangeIndex: 17379 entries, 0 to 17378\n",
            "Data columns (total 17 columns):\n",
            " #   Column      Non-Null Count  Dtype  \n",
            "---  ------      --------------  -----  \n",
            " 0   instant     17379 non-null  int64  \n",
            " 1   dteday      17379 non-null  object \n",
            " 2   season      17379 non-null  int64  \n",
            " 3   yr          17379 non-null  int64  \n",
            " 4   mnth        17379 non-null  int64  \n",
            " 5   hr          17379 non-null  int64  \n",
            " 6   holiday     17379 non-null  int64  \n",
            " 7   weekday     17379 non-null  int64  \n",
            " 8   workingday  17379 non-null  int64  \n",
            " 9   weathersit  17379 non-null  int64  \n",
            " 10  temp        17379 non-null  float64\n",
            " 11  atemp       17379 non-null  float64\n",
            " 12  hum         17379 non-null  float64\n",
            " 13  windspeed   17379 non-null  float64\n",
            " 14  casual      17379 non-null  int64  \n",
            " 15  registered  17379 non-null  int64  \n",
            " 16  cnt         17379 non-null  int64  \n",
            "dtypes: float64(4), int64(12), object(1)\n",
            "memory usage: 2.3+ MB\n",
            "None\n",
            "\n",
            "Missing Values in Dataset Hour:\n",
            "instant       0\n",
            "dteday        0\n",
            "season        0\n",
            "yr            0\n",
            "mnth          0\n",
            "hr            0\n",
            "holiday       0\n",
            "weekday       0\n",
            "workingday    0\n",
            "weathersit    0\n",
            "temp          0\n",
            "atemp         0\n",
            "hum           0\n",
            "windspeed     0\n",
            "casual        0\n",
            "registered    0\n",
            "cnt           0\n",
            "dtype: int64\n",
            "\n",
            "Summary Statistics of Dataset Hour:\n",
            "        instant    season        yr      mnth        hr   holiday   weekday  \\\n",
            "count 17,379.00 17,379.00 17,379.00 17,379.00 17,379.00 17,379.00 17,379.00   \n",
            "mean   8,690.00      2.50      0.50      6.54     11.55      0.03      3.00   \n",
            "std    5,017.03      1.11      0.50      3.44      6.91      0.17      2.01   \n",
            "min        1.00      1.00      0.00      1.00      0.00      0.00      0.00   \n",
            "25%    4,345.50      2.00      0.00      4.00      6.00      0.00      1.00   \n",
            "50%    8,690.00      3.00      1.00      7.00     12.00      0.00      3.00   \n",
            "75%   13,034.50      3.00      1.00     10.00     18.00      0.00      5.00   \n",
            "max   17,379.00      4.00      1.00     12.00     23.00      1.00      6.00   \n",
            "\n",
            "       workingday  weathersit      temp     atemp       hum  windspeed  \\\n",
            "count   17,379.00   17,379.00 17,379.00 17,379.00 17,379.00  17,379.00   \n",
            "mean         0.68        1.43      0.50      0.48      0.63       0.19   \n",
            "std          0.47        0.64      0.19      0.17      0.19       0.12   \n",
            "min          0.00        1.00      0.02      0.00      0.00       0.00   \n",
            "25%          0.00        1.00      0.34      0.33      0.48       0.10   \n",
            "50%          1.00        1.00      0.50      0.48      0.63       0.19   \n",
            "75%          1.00        2.00      0.66      0.62      0.78       0.25   \n",
            "max          1.00        4.00      1.00      1.00      1.00       0.85   \n",
            "\n",
            "         casual  registered       cnt  \n",
            "count 17,379.00   17,379.00 17,379.00  \n",
            "mean      35.68      153.79    189.46  \n",
            "std       49.31      151.36    181.39  \n",
            "min        0.00        0.00      1.00  \n",
            "25%        4.00       34.00     40.00  \n",
            "50%       17.00      115.00    142.00  \n",
            "75%       48.00      220.00    281.00  \n",
            "max      367.00      886.00    977.00  \n",
            "\n",
            "Season Frequency:\n",
            "season\n",
            "3    4496\n",
            "2    4409\n",
            "1    4242\n",
            "4    4232\n",
            "Name: count, dtype: int64\n",
            "\n",
            "Weather Situation Frequency:\n",
            "weathersit\n",
            "1    11413\n",
            "2     4544\n",
            "3     1419\n",
            "4        3\n",
            "Name: count, dtype: int64\n",
            "\n",
            "Hour Frequency:\n",
            "hr\n",
            "17    730\n",
            "16    730\n",
            "13    729\n",
            "15    729\n",
            "14    729\n",
            "12    728\n",
            "22    728\n",
            "21    728\n",
            "20    728\n",
            "19    728\n",
            "18    728\n",
            "23    728\n",
            "11    727\n",
            "10    727\n",
            "9     727\n",
            "8     727\n",
            "7     727\n",
            "0     726\n",
            "6     725\n",
            "1     724\n",
            "5     717\n",
            "2     715\n",
            "4     697\n",
            "3     697\n",
            "Name: count, dtype: int64\n"
          ]
        }
      ],
      "source": [
        "df_day = pd.read_csv(\"data/day.csv\")\n",
        "df_hour = pd.read_csv(\"data/hour.csv\")\n",
        "\n",
        "# Assessing Dataset 'day'\n",
        "\n",
        "print(\"Dataset Day Information:\")\n",
        "print(df_day.info())  # General information about the dataset\n",
        "print(\"\\nMissing Values in Dataset Day:\")\n",
        "print(df_day.isnull().sum())  # Checking for missing values\n",
        "print(\"\\nSummary Statistics of Dataset Day:\")\n",
        "print(df_day.describe())  # Descriptive statistics\n",
        "\n",
        "# Frequency distribution for categorical columns\n",
        "print(\"\\nSeason Frequency:\")\n",
        "print(df_day['season'].value_counts())  # Frequency of seasons\n",
        "print(\"\\nWeather Situation Frequency:\")\n",
        "print(df_day['weathersit'].value_counts())  # Frequency of weather situations\n",
        "print(\"\\nWeekday Frequency:\")\n",
        "print(df_day['weekday'].value_counts())  # Frequency of weekdays\n",
        "\n",
        "\n",
        "# Assessing Dataset 'hour'\n",
        "print(\"\\nDataset Hour Information:\")\n",
        "print(df_hour.info())  # General information about the dataset\n",
        "print(\"\\nMissing Values in Dataset Hour:\")\n",
        "print(df_hour.isnull().sum())  # Checking for missing values\n",
        "print(\"\\nSummary Statistics of Dataset Hour:\")\n",
        "print(df_hour.describe())  # Descriptive statistics\n",
        "\n",
        "# Frequency distribution for categorical columns\n",
        "print(\"\\nSeason Frequency:\")\n",
        "print(df_hour['season'].value_counts())  # Frequency of seasons\n",
        "print(\"\\nWeather Situation Frequency:\")\n",
        "print(df_hour['weathersit'].value_counts())  # Frequency of weather situations\n",
        "print(\"\\nHour Frequency:\")\n",
        "print(df_hour['hr'].value_counts())  # Frequency of hours\n"
      ]
    },
    {
      "attachments": {},
      "cell_type": "markdown",
      "metadata": {
        "id": "7dtxhAPrkhPL"
      },
      "source": [
        "**Insight:**\n",
        "- The analysis of both the day and hour datasets reveals that there are no missing values across all columns, indicating a high level of data quality and completeness, which is essential for accurate analysis and interpretation.\n",
        "- The summary statistics highlight that the majority of bike rentals occur during favorable weather conditions, with the highest frequency recorded in spring and summer seasons. This trend suggests a potential correlation between seasonal weather patterns and bike rental demand, which can be explored further in the analysis."
      ]
    },
    {
      "attachments": {},
      "cell_type": "markdown",
      "metadata": {
        "id": "EhN5R4hr8DC1"
      },
      "source": [
        "### Cleaning Data\n",
        "\n",
        " Process of identifying and correcting errors, inconsistencies, and missing values in a dataset. It's a crucial step in data analysis and preparation, ensuring that the data is accurate, consistent, and reliable for further use."
      ]
    },
    {
      "cell_type": "code",
      "execution_count": 181,
      "metadata": {
        "id": "jVnYpprE9Evz"
      },
      "outputs": [
        {
          "name": "stdout",
          "output_type": "stream",
          "text": [
            "dteday              datetime64[ns]\n",
            "season                      object\n",
            "mnth                        object\n",
            "holiday                      int64\n",
            "weekday                     object\n",
            "workingday                   int64\n",
            "temp                       float64\n",
            "atemp                      float64\n",
            "hum                        float64\n",
            "windspeed                  float64\n",
            "casual_users                 int64\n",
            "registered_users             int64\n",
            "total_rentals                int64\n",
            "weather                     object\n",
            "year                        object\n",
            "dtype: object\n",
            "dteday              datetime64[ns]\n",
            "season                      object\n",
            "mnth                        object\n",
            "hr                           int64\n",
            "holiday                      int64\n",
            "weekday                     object\n",
            "workingday                   int64\n",
            "temp                       float64\n",
            "atemp                      float64\n",
            "hum                        float64\n",
            "windspeed                  float64\n",
            "casual_users                 int64\n",
            "registered_users             int64\n",
            "total_rentals                int64\n",
            "weather                     object\n",
            "year                        object\n",
            "dtype: object\n",
            "                    dteday  holiday  workingday   temp  atemp    hum  \\\n",
            "count                  731   731.00      731.00 731.00 731.00 731.00   \n",
            "mean   2012-01-01 00:00:00     0.03        0.68  15.28   0.47   0.63   \n",
            "min    2011-01-01 00:00:00     0.00        0.00  -5.00   0.08   0.00   \n",
            "25%    2011-07-02 12:00:00     0.00        0.00   8.00   0.34   0.52   \n",
            "50%    2012-01-01 00:00:00     0.00        1.00  15.00   0.49   0.63   \n",
            "75%    2012-07-01 12:00:00     0.00        1.00  23.00   0.61   0.73   \n",
            "max    2012-12-31 00:00:00     1.00        1.00  32.00   0.84   0.97   \n",
            "std                    NaN     0.17        0.47   8.61   0.16   0.14   \n",
            "\n",
            "       windspeed  casual_users  registered_users  total_rentals  \n",
            "count     731.00        731.00            731.00         731.00  \n",
            "mean        0.19        848.18          3,656.17       4,504.35  \n",
            "min         0.02          2.00             20.00          22.00  \n",
            "25%         0.13        315.50          2,497.00       3,152.00  \n",
            "50%         0.18        713.00          3,662.00       4,548.00  \n",
            "75%         0.23      1,096.00          4,776.50       5,956.00  \n",
            "max         0.51      3,410.00          6,946.00       8,714.00  \n",
            "std         0.08        686.62          1,560.26       1,937.21  \n",
            "                              dteday        hr   holiday  workingday  \\\n",
            "count                          17379 17,379.00 17,379.00   17,379.00   \n",
            "mean   2012-01-02 04:08:34.552045568     11.55      0.03        0.68   \n",
            "min              2011-01-01 00:00:00      0.00      0.00        0.00   \n",
            "25%              2011-07-04 00:00:00      6.00      0.00        0.00   \n",
            "50%              2012-01-02 00:00:00     12.00      0.00        1.00   \n",
            "75%              2012-07-02 00:00:00     18.00      0.00        1.00   \n",
            "max              2012-12-31 00:00:00     23.00      1.00        1.00   \n",
            "std                              NaN      6.91      0.17        0.47   \n",
            "\n",
            "           temp     atemp       hum  windspeed  casual_users  \\\n",
            "count 17,379.00 17,379.00 17,379.00  17,379.00     17,379.00   \n",
            "mean      15.36      0.48      0.63       0.19         35.68   \n",
            "min       -7.00      0.00      0.00       0.00          0.00   \n",
            "25%        8.00      0.33      0.48       0.10          4.00   \n",
            "50%       16.00      0.48      0.63       0.19         17.00   \n",
            "75%       23.00      0.62      0.78       0.25         48.00   \n",
            "max       39.00      1.00      1.00       0.85        367.00   \n",
            "std        9.09      0.17      0.19       0.12         49.31   \n",
            "\n",
            "       registered_users  total_rentals  \n",
            "count         17,379.00      17,379.00  \n",
            "mean             153.79         189.46  \n",
            "min                0.00           1.00  \n",
            "25%               34.00          40.00  \n",
            "50%              115.00         142.00  \n",
            "75%              220.00         281.00  \n",
            "max              886.00         977.00  \n",
            "std              151.36         181.39  \n"
          ]
        }
      ],
      "source": [
        "import pandas as pd\n",
        "\n",
        "# Load the datasets\n",
        "df_day = pd.read_csv(\"data/day.csv\")\n",
        "df_hour = pd.read_csv(\"data/hour.csv\")\n",
        "\n",
        "# Constants for temperature normalization\n",
        "t_min = -8\n",
        "t_max = 39\n",
        "\n",
        "# Function to clean the day dataset\n",
        "def clean_day_data(df):\n",
        "    df['dteday'] = pd.to_datetime(df['dteday'])\n",
        "    df = df.drop(columns=['instant'])\n",
        "    df = df.rename(columns={\n",
        "        'casual': 'casual_users',\n",
        "        'registered': 'registered_users',\n",
        "        'cnt': 'total_rentals'\n",
        "    })\n",
        "    \n",
        "    # Convert normalized temperature to Celsius and round to nearest integer\n",
        "    df['temp'] = round(df['temp'] * (t_max - t_min) + t_min)\n",
        "    \n",
        "    # Map numerical values to descriptive captions\n",
        "    season_mapping = {\n",
        "        1: 'Spring',\n",
        "        2: 'Summer',\n",
        "        3: 'Fall',\n",
        "        4: 'Winter'\n",
        "    }\n",
        "    df['season'] = df['season'].map(season_mapping)\n",
        "\n",
        "    month_mapping = {\n",
        "        1: 'January',\n",
        "        2: 'February',\n",
        "        3: 'March',\n",
        "        4: 'April',\n",
        "        5: 'May',\n",
        "        6: 'June',\n",
        "        7: 'July',\n",
        "        8: 'August',\n",
        "        9: 'September',\n",
        "        10: 'October',\n",
        "        11: 'November',\n",
        "        12: 'December'\n",
        "    }\n",
        "    df['mnth'] = df['mnth'].map(month_mapping)\n",
        "\n",
        "    weekday_mapping = {\n",
        "        0: 'Sunday',\n",
        "        1: 'Monday',\n",
        "        2: 'Tuesday',\n",
        "        3: 'Wednesday',\n",
        "        4: 'Thursday',\n",
        "        5: 'Friday',\n",
        "        6: 'Saturday'\n",
        "    }\n",
        "    df['weekday'] = df['weekday'].map(weekday_mapping)\n",
        "\n",
        "    weather_mapping = {\n",
        "        1: 'Clear',\n",
        "        2: 'Mist',\n",
        "        3: 'Light Rain/Snow',\n",
        "        4: 'Heavy Rain/Snow'\n",
        "    }\n",
        "    df['weather'] = df['weathersit'].map(weather_mapping)\n",
        "\n",
        "    # Map year values to descriptive captions\n",
        "    year_mapping = {\n",
        "        0: '2011',\n",
        "        1: '2012'\n",
        "    }\n",
        "    df['year'] = df['yr'].map(year_mapping)\n",
        "    df = df.drop(columns=['yr', 'weathersit'])\n",
        "    df = df.drop_duplicates()\n",
        "    return df\n",
        "\n",
        "# Function to clean the hour dataset\n",
        "def clean_hour_data(df):\n",
        "    df['dteday'] = pd.to_datetime(df['dteday'])\n",
        "    df = df.drop(columns=['instant'])\n",
        "    df = df.rename(columns={\n",
        "        'casual': 'casual_users',\n",
        "        'registered': 'registered_users',\n",
        "        'cnt': 'total_rentals'\n",
        "    })\n",
        "    \n",
        "    # Convert normalized temperature to Celsius and round to nearest integer\n",
        "    df['temp'] = round(df['temp'] * (t_max - t_min) + t_min)\n",
        "\n",
        "    # Map numerical values to descriptive captions\n",
        "    season_mapping = {\n",
        "        1: 'Spring',\n",
        "        2: 'Summer',\n",
        "        3: 'Fall',\n",
        "        4: 'Winter'\n",
        "    }\n",
        "    df['season'] = df['season'].map(season_mapping)\n",
        "\n",
        "    month_mapping = {\n",
        "        1: 'January',\n",
        "        2: 'February',\n",
        "        3: 'March',\n",
        "        4: 'April',\n",
        "        5: 'May',\n",
        "        6: 'June',\n",
        "        7: 'July',\n",
        "        8: 'August',\n",
        "        9: 'September',\n",
        "        10: 'October',\n",
        "        11: 'November',\n",
        "        12: 'December'\n",
        "    }\n",
        "    df['mnth'] = df['mnth'].map(month_mapping)\n",
        "\n",
        "    weekday_mapping = {\n",
        "        0: 'Sunday',\n",
        "        1: 'Monday',\n",
        "        2: 'Tuesday',\n",
        "        3: 'Wednesday',\n",
        "        4: 'Thursday',\n",
        "        5: 'Friday',\n",
        "        6: 'Saturday'\n",
        "    }\n",
        "    df['weekday'] = df['weekday'].map(weekday_mapping)\n",
        "\n",
        "    weather_mapping = {\n",
        "        1: 'Clear',\n",
        "        2: 'Mist',\n",
        "        3: 'Light Rain/Snow',\n",
        "        4: 'Heavy Rain/Snow'\n",
        "    }\n",
        "    df['weather'] = df['weathersit'].map(weather_mapping)\n",
        "\n",
        "    # Map year values to descriptive captions\n",
        "    year_mapping = {\n",
        "        0: '2011',\n",
        "        1: '2012'\n",
        "    }\n",
        "    df['year'] = df['yr'].map(year_mapping)\n",
        "    df = df.drop(columns=['yr', 'weathersit'])\n",
        "    df = df.drop_duplicates()\n",
        "    return df\n",
        "\n",
        "# Clean the datasets\n",
        "cleaned_day = clean_day_data(df_day)\n",
        "cleaned_hour = clean_hour_data(df_hour)\n",
        "\n",
        "# Verify data types\n",
        "print(cleaned_day.dtypes)\n",
        "print(cleaned_hour.dtypes)\n",
        "\n",
        "# Summary of cleaned data (rounding to 2 decimal places for other float columns)\n",
        "pd.options.display.float_format = '{:,.2f}'.format  # Set display options\n",
        "\n",
        "# Summary of cleaned data\n",
        "print(cleaned_day.describe())\n",
        "print(cleaned_hour.describe())\n",
        "\n",
        "# Save cleaned datasets to new CSV files\n",
        "cleaned_day.to_csv(\"data/cleaned_day.csv\", index=False)\n",
        "cleaned_hour.to_csv(\"data/cleaned_hour.csv\", index=False)"
      ]
    },
    {
      "attachments": {},
      "cell_type": "markdown",
      "metadata": {
        "id": "Q_5ejIqckiSP"
      },
      "source": [
        "**Insight:**\n",
        "- The cleaning process improved data quality by standardizing column names and removing duplicates, ensuring analyses are based on unique entries.\n",
        "- The cleaned dataset highlights significant seasonal and weather-related patterns in bike rentals, with an average of 4,504 rentals per day, providing insights for targeted marketing strategies.\n",
        "- In some columns the names of columns are changed to make more easy analysis."
      ]
    },
    {
      "attachments": {},
      "cell_type": "markdown",
      "metadata": {
        "id": "gp-Y6wU38DC1"
      },
      "source": [
        "## Exploratory Data Analysis (EDA)\n",
        "\n",
        "Exploratory Data Analysis (EDA) is an approach to analyzing data sets to summarize their main characteristics, often using statistical graphics and other data visualization methods. It is a crucial initial step in data science projects, as it helps data scientists to understand the data better and identify potential patterns, anomalies, and relationships."
      ]
    },
    {
      "cell_type": "markdown",
      "metadata": {
        "id": "MW7WF2kr8DC1"
      },
      "source": [
        "### Explore ..."
      ]
    },
    {
      "attachments": {},
      "cell_type": "markdown",
      "metadata": {},
      "source": [
        "Question 1"
      ]
    },
    {
      "cell_type": "code",
      "execution_count": 182,
      "metadata": {},
      "outputs": [
        {
          "name": "stdout",
          "output_type": "stream",
          "text": [
            "The peak time for bike rentals is 17:00 with 336860 rentals.\n",
            "\n",
            "Pivot table for bike rentals by hour:\n",
            "    casual_users  registered_users  total_rentals\n",
            "hr                                               \n",
            "0           7375             31755          39130\n",
            "1           4709             19455          24164\n",
            "2           3412             12940          16352\n",
            "3           1893              6281           8174\n",
            "4            874              3554           4428\n",
            "5           1012             13249          14261\n",
            "6           3017             52115          55132\n",
            "7           8037            146134         154171\n",
            "8          15761            245240         261001\n",
            "9          22458            136980         159438\n",
            "10         33789             92468         126257\n",
            "11         43286            108034         151320\n",
            "12         49718            134696         184414\n",
            "13         52713            132206         184919\n",
            "14         55089            120563         175652\n",
            "15         54606            128543         183149\n",
            "16         53834            173914         227748\n",
            "17         54220            282640         336860\n",
            "18         44496            265276         309772\n",
            "19         35505            191284         226789\n",
            "20         26378            138172         164550\n",
            "21         20570            104875         125445\n",
            "22         16200             79412          95612\n",
            "23         11065             52876          63941\n"
          ]
        }
      ],
      "source": [
        "# Load the cleaned hour dataset\n",
        "cleaned_hour = pd.read_csv(\"data/cleaned_hour.csv\")\n",
        "\n",
        "# Create a new column for total rentals\n",
        "cleaned_hour['total_rentals'] = cleaned_hour['casual_users'] + cleaned_hour['registered_users']\n",
        "\n",
        "# Group by hour and sum the total rentals\n",
        "peak_time_rentals = cleaned_hour.groupby('hr')['total_rentals'].sum()\n",
        "\n",
        "# Find the peak time\n",
        "peak_time = peak_time_rentals.idxmax()\n",
        "peak_value = peak_time_rentals.max()\n",
        "\n",
        "# Display the peak time and the number of rentals\n",
        "print(f\"The peak time for bike rentals is {peak_time}:00 with {peak_value} rentals.\")\n",
        "\n",
        "# Create a pivot table for rentals by hour\n",
        "pivot_table_hourly_rentals = cleaned_hour.pivot_table(\n",
        "    index='hr',\n",
        "    values=['casual_users', 'registered_users', 'total_rentals'],\n",
        "    aggfunc='sum'\n",
        ")\n",
        "\n",
        "# Display the pivot table\n",
        "print(\"\\nPivot table for bike rentals by hour:\")\n",
        "print(pivot_table_hourly_rentals)"
      ]
    },
    {
      "attachments": {},
      "cell_type": "markdown",
      "metadata": {},
      "source": [
        "Question 2"
      ]
    },
    {
      "cell_type": "code",
      "execution_count": 183,
      "metadata": {
        "id": "e9CQCZjk8DC2"
      },
      "outputs": [
        {
          "name": "stdout",
          "output_type": "stream",
          "text": [
            "           casual_users  registered_users\n",
            "month                                    \n",
            "April              1013              3472\n",
            "August             1162              4502\n",
            "December            350              3054\n",
            "February            263              2393\n",
            "January             194              1982\n",
            "July               1261              4303\n",
            "June               1232              4541\n",
            "March               717              2975\n",
            "May                1214              4136\n",
            "November            610              3637\n",
            "October             964              4235\n",
            "September          1172              4594\n"
          ]
        }
      ],
      "source": [
        "# Load the cleaned datasets\n",
        "cleaned_day = pd.read_csv(\"data/cleaned_day.csv\")\n",
        "\n",
        "# Convert 'dteday' to datetime to extract month\n",
        "cleaned_day['dteday'] = pd.to_datetime(cleaned_day['dteday'])\n",
        "\n",
        "# Extract month from 'dteday'\n",
        "cleaned_day['month'] = cleaned_day['dteday'].dt.month_name()\n",
        "\n",
        "# Create a pivot table to calculate the average rentals by month\n",
        "average_rentals_by_month = cleaned_day.pivot_table(\n",
        "    index='month',\n",
        "    values=['casual_users', 'registered_users'],\n",
        "    aggfunc='mean'\n",
        ").sort_index()\n",
        "\n",
        "# Convert float values to integers\n",
        "average_rentals_by_month = average_rentals_by_month.round(0).astype(int)\n",
        "\n",
        "# Display the pivot table\n",
        "print(average_rentals_by_month)\n"
      ]
    },
    {
      "attachments": {},
      "cell_type": "markdown",
      "metadata": {
        "id": "th_Lzl2Fkj9O"
      },
      "source": [
        "**Insight:**\n",
        "- Q1 : The peak time for bike rentals occurs at 17:00 (5 PM), with the highest number of rentals recorded, indicating that this period is crucial for managing resources and optimizing availability to meet demand.\n",
        "- Q2 : On average, casual users rent approximately 1,013 bikes, while registered users rent around 3,472 bikes each month, highlighting a significant reliance on registered users for overall rental numbers."
      ]
    },
    {
      "cell_type": "markdown",
      "metadata": {
        "id": "zsyZjqak8DC2"
      },
      "source": [
        "## Visualization & Explanatory Analysis"
      ]
    },
    {
      "attachments": {},
      "cell_type": "markdown",
      "metadata": {
        "id": "HZxOiQ6n8DC2"
      },
      "source": [
        "### Question 1:"
      ]
    },
    {
      "cell_type": "code",
      "execution_count": 184,
      "metadata": {
        "id": "1swJUdAD8DC2"
      },
      "outputs": [
        {
          "data": {
            "image/png": "[encoded data removed]",
            "text/plain": [
              "<Figure size 1200x600 with 1 Axes>"
            ]
          },
          "metadata": {},
          "output_type": "display_data"
        }
      ],
      "source": [
        "# Visualization Q1\n",
        "plt.figure(figsize=(12, 6))\n",
        "plt.bar(pivot_table_hourly_rentals.index, pivot_table_hourly_rentals['total_rentals'], color='skyblue')\n",
        "plt.title('Total Bike Rentals by Hour')\n",
        "plt.xlabel('Hour of Day')\n",
        "plt.ylabel('Total Rentals')\n",
        "plt.xticks(pivot_table_hourly_rentals.index)\n",
        "plt.grid(axis='y', linestyle='--', alpha=0.7)\n",
        "\n",
        "# Highlight the peak time\n",
        "plt.axvline(x=peak_time, color='red', linestyle='--', label=f'Peak Time: {peak_time}:00')\n",
        "plt.legend()\n",
        "plt.tight_layout()\n",
        "\n",
        "# Show the plot\n",
        "plt.show()"
      ]
    },
    {
      "cell_type": "markdown",
      "metadata": {
        "id": "DgHI7CiU8DC2"
      },
      "source": [
        "### Pertanyaan 2:"
      ]
    },
    {
      "cell_type": "code",
      "execution_count": 185,
      "metadata": {
        "id": "Go0lCsvO8DC2"
      },
      "outputs": [
        {
          "data": {
            "text/plain": [
              "<Figure size 1000x600 with 0 Axes>"
            ]
          },
          "metadata": {},
          "output_type": "display_data"
        },
        {
          "data": {
            "image/png": "[encoded data removed]",
            "text/plain": [
              "<Figure size 640x480 with 1 Axes>"
            ]
          },
          "metadata": {},
          "output_type": "display_data"
        }
      ],
      "source": [
        "# Set the figure size\n",
        "plt.figure(figsize=(10, 6))\n",
        "\n",
        "# Create a bar plot for average rentals by month\n",
        "average_rentals_by_month.plot(kind='bar', color=['skyblue', 'orange'])\n",
        "\n",
        "# Add titles and labels\n",
        "plt.title('Average Bike Rentals by Month', fontsize=16)\n",
        "plt.xlabel('Month', fontsize=14)\n",
        "plt.ylabel('Average Rentals', fontsize=14)\n",
        "plt.xticks(rotation=45)\n",
        "plt.grid(axis='y', linestyle='--', alpha=0.7)\n",
        "\n",
        "# Add a legend\n",
        "plt.legend(['Casual Users', 'Registered Users'], title='User Type')\n",
        "\n",
        "# Show the plot\n",
        "plt.tight_layout()  # Adjust layout to prevent clipping\n",
        "plt.show()"
      ]
    },
    {
      "attachments": {},
      "cell_type": "markdown",
      "metadata": {
        "id": "_0-36BDLklRg"
      },
      "source": [
        "**Insight:**\n",
        "- Q1 = The visualization clearly shows that the highest bike rental activity occurs around 17:00 (5 PM), suggesting that this is the most critical time for operational planning, requiring increased bike availability and staffing to accommodate demand.\n",
        "- Q2 =  The monthly average rentals visualization indicates that registered users consistently outnumber casual users, with notable spikes during warmer months."
      ]
    },
    {
      "cell_type": "markdown",
      "metadata": {
        "id": "9y4VUsmcYNZ5"
      },
      "source": [
        "## Analisis Lanjutan (Opsional)"
      ]
    },
    {
      "attachments": {},
      "cell_type": "markdown",
      "metadata": {},
      "source": [
        "RFM"
      ]
    },
    {
      "cell_type": "code",
      "execution_count": 186,
      "metadata": {
        "id": "iWhnzsJGYUCO"
      },
      "outputs": [
        {
          "name": "stdout",
          "output_type": "stream",
          "text": [
            "   Recency (Days)  Total Frequency (Rentals)  Average Monetary (Rentals)\n",
            "0             730                    3292679                    4,504.35\n"
          ]
        }
      ],
      "source": [
        "# Load the cleaned day dataset\n",
        "cleaned_day = pd.read_csv(\"data/cleaned_day.csv\")\n",
        "\n",
        "# Convert 'dteday' to datetime format\n",
        "cleaned_day['dteday'] = pd.to_datetime(cleaned_day['dteday'])\n",
        "\n",
        "# Calculate Recency, Frequency, and Monetary values\n",
        "# 1. Recency: Days since the last rental\n",
        "last_rental_date = cleaned_day['dteday'].max()\n",
        "recency = (last_rental_date - cleaned_day['dteday'].min()).days\n",
        "\n",
        "# 2. Frequency: Total number of rentals (casual + registered)\n",
        "frequency = cleaned_day['total_rentals'].sum()  # Total rentals over the dataset\n",
        "\n",
        "# 3. Monetary: Average rentals (could also sum, but for analysis, let's use average)\n",
        "monetary = cleaned_day['total_rentals'].mean()  # Average total rentals per day\n",
        "\n",
        "# Create a DataFrame for RFM analysis\n",
        "rfm_df = pd.DataFrame({\n",
        "    'Recency (Days)': [recency],\n",
        "    'Total Frequency (Rentals)': [frequency],\n",
        "    'Average Monetary (Rentals)': [monetary]\n",
        "})\n",
        "\n",
        "# Display RFM DataFrame\n",
        "print(rfm_df)"
      ]
    },
    {
      "attachments": {},
      "cell_type": "markdown",
      "metadata": {},
      "source": [
        "**Insight:**\n",
        "- The average recency of 730 days indicates that it has been about 2 years since the last rental was made, suggesting low customer retention or infrequent usage. Despite a high total frequency of 3,292,679 rentals, the average monetary value of 4,504.35 rentals per day indicates that while the rental service sees substantial activity, it may not be attracting repeat customers consistently. This could point to opportunities for improving customer engagement strategies, such as targeted marketing campaigns, loyalty programs, or seasonal promotions to encourage more frequent rentals."
      ]
    },
    {
      "attachments": {},
      "cell_type": "markdown",
      "metadata": {},
      "source": [
        "Clustering(Manual Grouping)"
      ]
    },
    {
      "cell_type": "code",
      "execution_count": 187,
      "metadata": {},
      "outputs": [
        {
          "name": "stdout",
          "output_type": "stream",
          "text": [
            "    temp_bins rental_bins  Count\n",
            "0         Low         Low      2\n",
            "1         Low      Medium     36\n",
            "2         Low        High     88\n",
            "3         Low   Very High     82\n",
            "4    Moderate         Low      1\n",
            "5    Moderate      Medium      4\n",
            "6    Moderate        High     28\n",
            "7    Moderate   Very High     90\n",
            "8        High         Low      0\n",
            "9        High      Medium      1\n",
            "10       High        High      2\n",
            "11       High   Very High     95\n",
            "12  Very High         Low      0\n",
            "13  Very High      Medium      0\n",
            "14  Very High        High      0\n",
            "15  Very High   Very High      6\n"
          ]
        },
        {
          "name": "stderr",
          "output_type": "stream",
          "text": [
            "C:\\Users\\theod\\AppData\\Local\\Temp\\ipykernel_4224\\123900202.py:15: FutureWarning: The default of observed=False is deprecated and will be changed to True in a future version of pandas. Pass observed=False to retain current behavior or observed=True to adopt the future default and silence this warning.\n",
            "  cluster_analysis = cleaned_day.groupby(['temp_bins', 'rental_bins']).size().reset_index(name='Count')\n"
          ]
        }
      ],
      "source": [
        "# Load the cleaned day dataset\n",
        "cleaned_day = pd.read_csv(\"data/cleaned_day.csv\")\n",
        "\n",
        "# Create bins for temperature\n",
        "bins = [-1, 10, 20, 30, 40]  # Example temperature bins\n",
        "labels = ['Low', 'Moderate', 'High', 'Very High']\n",
        "cleaned_day['temp_bins'] = pd.cut(cleaned_day['temp'], bins=bins, labels=labels)\n",
        "\n",
        "# Create bins for total rentals\n",
        "rental_bins = [0, 500, 1500, 3000, 5000]  # Example rental volume bins\n",
        "rental_labels = ['Low', 'Medium', 'High', 'Very High']\n",
        "cleaned_day['rental_bins'] = pd.cut(cleaned_day['total_rentals'], bins=rental_bins, labels=rental_labels)\n",
        "\n",
        "# Group by temperature and rental bins\n",
        "cluster_analysis = cleaned_day.groupby(['temp_bins', 'rental_bins']).size().reset_index(name='Count')\n",
        "\n",
        "# Display the clustering results\n",
        "print(cluster_analysis)"
      ]
    },
    {
      "attachments": {},
      "cell_type": "markdown",
      "metadata": {},
      "source": [
        "**Insight:**\n",
        "- Bike rentals peak significantly on very hot days, with 95 rentals recorded at very high temperatures, indicating a strong correlation between high temperatures and increased rental activity."
      ]
    },
    {
      "attachments": {},
      "cell_type": "markdown",
      "metadata": {},
      "source": [
        "Binning"
      ]
    },
    {
      "cell_type": "code",
      "execution_count": 188,
      "metadata": {},
      "outputs": [
        {
          "name": "stdout",
          "output_type": "stream",
          "text": [
            "     temp_bin rental_bin  Count\n",
            "0         Low        Low      0\n",
            "1         Low     Medium      0\n",
            "2         Low       High      0\n",
            "3         Low  Very High      0\n",
            "4    Moderate        Low      0\n",
            "5    Moderate     Medium      0\n",
            "6    Moderate       High      0\n",
            "7    Moderate  Very High      0\n",
            "8        High        Low      0\n",
            "9        High     Medium      0\n",
            "10       High       High      0\n",
            "11       High  Very High      0\n",
            "12  Very High        Low      1\n",
            "13  Very High     Medium      0\n",
            "14  Very High       High      4\n",
            "15  Very High  Very High      5\n"
          ]
        },
        {
          "name": "stderr",
          "output_type": "stream",
          "text": [
            "C:\\Users\\theod\\AppData\\Local\\Temp\\ipykernel_4224\\2160481710.py:17: FutureWarning: The default of observed=False is deprecated and will be changed to True in a future version of pandas. Pass observed=False to retain current behavior or observed=True to adopt the future default and silence this warning.\n",
            "  bin_counts = cleaned_day.groupby(['temp_bin', 'rental_bin']).size().reset_index(name='Count')\n"
          ]
        }
      ],
      "source": [
        "# Load your cleaned dataset\n",
        "cleaned_day = pd.read_csv(\"data/cleaned_day.csv\")\n",
        "\n",
        "# Define temperature bins and labels\n",
        "temp_bins = [0, 10, 20, 30, 40]\n",
        "temp_labels = ['Low', 'Moderate', 'High', 'Very High']\n",
        "\n",
        "# Define rental bins and labels\n",
        "rental_bins = [0, 500, 1000, 1500, 2000]\n",
        "rental_labels = ['Low', 'Medium', 'High', 'Very High']\n",
        "\n",
        "# Assign bins\n",
        "cleaned_day['temp_bin'] = pd.cut(cleaned_day['temp'] * 39, bins=temp_bins, labels=temp_labels)\n",
        "cleaned_day['rental_bin'] = pd.cut(cleaned_day['total_rentals'], bins=rental_bins, labels=rental_labels)\n",
        "\n",
        "# Create a pivot table to count the occurrences of each combination of temperature and rental bins\n",
        "bin_counts = cleaned_day.groupby(['temp_bin', 'rental_bin']).size().reset_index(name='Count')\n",
        "\n",
        "# Display the result\n",
        "print(bin_counts)\n"
      ]
    },
    {
      "attachments": {},
      "cell_type": "markdown",
      "metadata": {},
      "source": [
        "**Insight:**\n",
        "- This analysis indicates that temperature has a considerable impact on bike rentals, with users showing a preference for renting bikes primarily in very high-temperature conditions, although the overall rental counts remain low."
      ]
    },
    {
      "cell_type": "markdown",
      "metadata": {
        "id": "_WeHlCeX8DC2"
      },
      "source": [
        "## Conclusion"
      ]
    },
    {
      "attachments": {},
      "cell_type": "markdown",
      "metadata": {
        "id": "ZTcyR48Y8DC2"
      },
      "source": [
        "- Conclusion Question 1\n",
        "The analysis indicates that bike rentals peak during specific hours of the day, particularly during the late afternoon and early evening (e.g., around 5 PM). This suggests that most users prefer to rent bikes after work hours, possibly for leisure or commuting purposes. This peak can be leveraged for targeted marketing campaigns or resource allocation to meet high demand during these hours.\n",
        "\n",
        "- Conclution Question 2\n",
        "On average, casual and registered users exhibit distinct rental patterns throughout the year. Registered users consistently have higher rental counts compared to casual users, reflecting a strong loyalty or habitual use of the bike-sharing service. This trend highlights the importance of fostering user retention and engagement strategies for registered users while exploring methods to convert casual users into regular renters."
      ]
    }
  ],
  "metadata": {
    "colab": {
      "provenance": []
    },
    "kernelspec": {
      "display_name": "Python 3",
      "language": "python",
      "name": "python3"
    },
    "language_info": {
      "codemirror_mode": {
        "name": "ipython",
        "version": 3
      },
      "file_extension": ".py",
      "mimetype": "text/x-python",
      "name": "python",
      "nbconvert_exporter": "python",
      "pygments_lexer": "ipython3",
      "version": "3.12.2"
    },
    "orig_nbformat": 4,
    "vscode": {
      "interpreter": {
        "hash": "972b3bf27e332e87b5379f2791f6ef9dfc79c71018c370b0d7423235e20fe4d7"
      }
    }
  },
  "nbformat": 4,
  "nbformat_minor": 0
}
